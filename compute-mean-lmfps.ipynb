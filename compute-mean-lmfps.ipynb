{
 "cells": [
  {
   "cell_type": "code",
   "execution_count": 3,
   "id": "f56b82a5-5a59-4c8f-8fd8-58b72fcd6211",
   "metadata": {},
   "outputs": [],
   "source": [
    "from typing import Dict, List\n",
    "\n",
    "from src.reference_implementations.prompt_zoo.metrics import sentiment_metric"
   ]
  },
  {
   "cell_type": "code",
   "execution_count": 8,
   "id": "b976ee1d-1e5c-4114-b9ec-6b7f512b18b0",
   "metadata": {},
   "outputs": [
    {
     "name": "stdout",
     "output_type": "stream",
     "text": [
      "mml_on_policy_beam_search 0.6972477064220184\n",
      "mml_on_policy_top_p 0.7674311926605505\n",
      "mml_on_policy_mixed 0.763532110091743\n",
      "mml_off_policy_beam_search 0.7759174311926605\n",
      "mml_off_policy_top_p 0.7685779816513761\n",
      "mml_off_policy_mixed 0.7727064220183486\n",
      "pg_on_policy_beam_search 0.6790658882402001\n",
      "pg_on_policy_top_p 0.7615825688073394\n",
      "pg_on_policy_mixed 0.7201834862385321\n",
      "pg_off_policy_beam_search 0.7724770642201835\n",
      "pg_off_policy_top_p 0.7747706422018349\n",
      "pg_off_policy_mixed 0.7731651376146789\n"
     ]
    }
   ],
   "source": [
    "methods = [\n",
    "    \"mml_on_policy_beam_search\",\n",
    "    \"mml_on_policy_top_p\",\n",
    "    \"mml_on_policy_mixed\",\n",
    "    \"mml_off_policy_beam_search\",\n",
    "    \"mml_off_policy_top_p\",\n",
    "    \"mml_off_policy_mixed\",\n",
    "    \"pg_on_policy_beam_search\",\n",
    "    \"pg_on_policy_top_p\",\n",
    "    \"pg_on_policy_mixed\",\n",
    "    \"pg_off_policy_beam_search\",\n",
    "    \"pg_off_policy_top_p\",\n",
    "    \"pg_off_policy_mixed\",\n",
    "]\n",
    "\n",
    "seeds = [\"11\", \"42\", \"12321\", \"2023\", \"1993\"]\n",
    "main_path = \"~/checkpoint\"\n",
    "\n",
    "result_arr: Dict[str, List] = {}\n",
    "for method in methods:\n",
    "    result_arr[method] = []\n",
    "\n",
    "for method in methods:\n",
    "    for seed in seeds:\n",
    "        file_name = f\"{main_path}/sst2_2_32_all_finetune_{seed}_0.00001\"\n",
    "        file_name = f\"{file_name}_0_1_0_{method}_accuracy_0.6\"\n",
    "        file_name = f\"{file_name}/sst2.validation.with_instruction.all_finetune.all_predictions.csv\"\n",
    "        scores = sentiment_metric(file_name, 2)\n",
    "        result_arr[method].append(scores[\"accuracy\"])\n",
    "\n",
    "for method in methods:\n",
    "    print(method, sum(result_arr[method]) / len(seeds))"
   ]
  },
  {
   "cell_type": "code",
   "execution_count": 9,
   "id": "b01a6cd2-6df3-4d02-bdfd-dd1d806fa72c",
   "metadata": {},
   "outputs": [
    {
     "name": "stdout",
     "output_type": "stream",
     "text": [
      "mml_on_policy 0.7427370030581039\n"
     ]
    }
   ],
   "source": [
    "mml_on_policy = sum(result_arr[\"mml_on_policy_beam_search\"])\n",
    "mml_on_policy += sum(result_arr[\"mml_on_policy_top_p\"])\n",
    "mml_on_policy += sum(result_arr[\"mml_on_policy_mixed\"])\n",
    "print(\"mml_on_policy\", mml_on_policy / 15.0)"
   ]
  },
  {
   "cell_type": "code",
   "execution_count": 10,
   "id": "4fce8cd0-ec18-43e5-af19-96a12ac782f0",
   "metadata": {},
   "outputs": [
    {
     "name": "stdout",
     "output_type": "stream",
     "text": [
      "mml_off_policy 0.772400611620795\n"
     ]
    }
   ],
   "source": [
    "mml_off_policy = sum(result_arr[\"mml_off_policy_beam_search\"])\n",
    "mml_off_policy += sum(result_arr[\"mml_off_policy_top_p\"])\n",
    "mml_off_policy += sum(result_arr[\"mml_off_policy_mixed\"])\n",
    "print(\"mml_off_policy\", mml_off_policy / 15.0)"
   ]
  },
  {
   "cell_type": "code",
   "execution_count": 11,
   "id": "af597f03-39c9-435f-99ac-ced7915d3dc1",
   "metadata": {},
   "outputs": [
    {
     "name": "stdout",
     "output_type": "stream",
     "text": [
      "pg_on_policy 0.7202773144286906\n"
     ]
    }
   ],
   "source": [
    "pg_on_policy = sum(result_arr[\"pg_on_policy_beam_search\"])\n",
    "pg_on_policy += sum(result_arr[\"pg_on_policy_top_p\"])\n",
    "pg_on_policy += sum(result_arr[\"pg_on_policy_mixed\"])\n",
    "print(\"pg_on_policy\", pg_on_policy / 15.0)"
   ]
  },
  {
   "cell_type": "code",
   "execution_count": 12,
   "id": "885864ef-9b50-44f8-bec0-3a53c66e1780",
   "metadata": {},
   "outputs": [
    {
     "name": "stdout",
     "output_type": "stream",
     "text": [
      "pg_off_policy 0.7734709480122324\n"
     ]
    }
   ],
   "source": [
    "pg_off_policy = sum(result_arr[\"pg_off_policy_beam_search\"])\n",
    "pg_off_policy += sum(result_arr[\"pg_off_policy_top_p\"])\n",
    "pg_off_policy += sum(result_arr[\"pg_off_policy_mixed\"])\n",
    "print(\"pg_off_policy\", pg_off_policy / 15.0)"
   ]
  }
 ],
 "metadata": {
  "kernelspec": {
   "display_name": "Python 3",
   "language": "python",
   "name": "python3"
  },
  "language_info": {
   "codemirror_mode": {
    "name": "ipython",
    "version": 3
   },
   "file_extension": ".py",
   "mimetype": "text/x-python",
   "name": "python",
   "nbconvert_exporter": "python",
   "pygments_lexer": "ipython3",
   "version": "3.8.10"
  }
 },
 "nbformat": 4,
 "nbformat_minor": 5
}
