{
 "cells": [
  {
   "attachments": {},
   "cell_type": "markdown",
   "metadata": {},
   "source": [
    "# Experiment Description\n",
    "\n",
    "<p> In this set of experiments, we are going to test the manual templates on various text classification tasks. We are going to use a fixed backbone roberta-large language model.\n",
    "\n",
    "<p> With manual templates, we no longer need any training examples and we will only make predictions on the corresponding test sets.</p>\n"
   ]
  },
  {
   "attachments": {},
   "cell_type": "markdown",
   "metadata": {},
   "source": [
    "# Experiment 1 on SST-2 Sentiment\n",
    "\n",
    "In the first Experiment, we are going to make predictions on the SST-2 binary sentiment classification task."
   ]
  },
  {
   "cell_type": "code",
   "execution_count": 1,
   "metadata": {},
   "outputs": [],
   "source": [
    "!mkdir -p \"~/template_experiments\"\n",
    "!mkdir -p \"~/template_experiments/sst2\"\n",
    "!mkdir -p \"~/template_experiments/sst2/with_instruction/\"\n",
    "!mkdir -p \"~/template_experiments/sst2/no_instruction/\""
   ]
  },
  {
   "attachments": {},
   "cell_type": "markdown",
   "metadata": {},
   "source": [
    "We run our prediction script with the required arguments for the no template experiment."
   ]
  },
  {
   "cell_type": "code",
   "execution_count": 4,
   "metadata": {},
   "outputs": [
    {
     "name": "stdout",
     "output_type": "stream",
     "text": [
      "2023-07-25 19:34:32.200434: I tensorflow/core/platform/cpu_feature_guard.cc:193] This TensorFlow binary is optimized with oneAPI Deep Neural Network Library (oneDNN) to use the following CPU instructions in performance-critical operations:  AVX2 AVX512F FMA\n",
      "To enable them in other operations, rebuild TensorFlow with the appropriate compiler flags.\n",
      "2023-07-25 19:34:33.304438: W tensorflow/compiler/xla/stream_executor/platform/default/dso_loader.cc:64] Could not load dynamic library 'libnvinfer.so.7'; dlerror: libnvinfer.so.7: cannot open shared object file: No such file or directory\n",
      "2023-07-25 19:34:33.304537: W tensorflow/compiler/xla/stream_executor/platform/default/dso_loader.cc:64] Could not load dynamic library 'libnvinfer_plugin.so.7'; dlerror: libnvinfer_plugin.so.7: cannot open shared object file: No such file or directory\n",
      "2023-07-25 19:34:33.304549: W tensorflow/compiler/tf2tensorrt/utils/py_utils.cc:38] TF-TRT Warning: Cannot dlopen some TensorRT libraries. If you would like to use Nvidia GPU with TensorRT, please make sure the missing libraries mentioned above are installed properly.\n",
      "[nltk_data] Downloading package punkt to /h/snajafi/nltk_data...\n",
      "[nltk_data]   Package punkt is already up-to-date!\n",
      "2023-07-25 19:34:37.442507: W tensorflow/compiler/xla/stream_executor/platform/default/dso_loader.cc:64] Could not load dynamic library 'libcusolver.so.11'; dlerror: libcusolver.so.11: cannot open shared object file: No such file or directory\n",
      "2023-07-25 19:34:37.442663: W tensorflow/core/common_runtime/gpu/gpu_device.cc:1934] Cannot dlopen some GPU libraries. Please make sure the missing libraries mentioned above are installed properly if you would like to use GPU. Follow the guide at https://www.tensorflow.org/install/gpu for how to download and setup the required libraries for your platform.\n",
      "Skipping registering GPU devices...\n",
      "W0725 19:34:45.511115 140009017348224 builder.py:835] Found cached dataset sst2 (/h/snajafi/.cache/huggingface/datasets/sst2/default/2.0.0/9896208a8d85db057ac50c72282bcb8fe755accc671a57dd8059d4e130961ed5)\n",
      "W0725 19:34:45.518453 140009017348224 arrow_dataset.py:3076] Loading cached processed dataset at /h/snajafi/.cache/huggingface/datasets/sst2/default/2.0.0/9896208a8d85db057ac50c72282bcb8fe755accc671a57dd8059d4e130961ed5/cache-addb34d4227cd0cd.arrow\n",
      "Predicting...\n"
     ]
    }
   ],
   "source": [
    "!TOKENIZERS_PARALLELISM=false python -m src.reference_implementations.prompt_zoo.trainer \\\n",
    "    --eval_batch_size 32 \\\n",
    "    --mode test \\\n",
    "    --seed 11 \\\n",
    "    --task_name sst2 \\\n",
    "    --test_file validation \\\n",
    "    --num_classes 2 \\\n",
    "    --exp_type no_finetune \\\n",
    "    --model_path ~/template_experiments/sst2/with_instruction \\\n",
    "    --para_model_path ~/template_experiments/sst2/with_instruction \\\n",
    "    --source_max_length 128 \\\n",
    "    --decoder_max_length 128 \\\n",
    "    --prediction_file ~/template_experiments/sst2/with_instruction/sst2.validation.with_instruction.all_predictions.csv \\\n",
    "    --instruction_type manual_template_research_sst2_with_instruction \\\n",
    "    --pretrained_model roberta-large \\\n",
    "    --enable_data_augmentation 0 \\\n",
    "    --enable_paraphrase_training 0 \\\n",
    "    --load_paraphraser 0 \\\n",
    "    --ensemble_type \"no_ensemble\" \\\n",
    "    --test_temperature 1.0 \\\n",
    "    --test_sample_size 8 \\\n",
    "    --g_beam_size 1 \\\n",
    "    --top_k 8 \\\n",
    "    --num_candidates 8 \\\n",
    "    --num_compose 1 \\\n",
    "    --meta_dir . \\\n",
    "    --meta_name search.txt \\\n",
    "    --level word \\\n",
    "    --test_sampling_algorithm \"top_p\" \\\n",
    "    --use_cache 1"
   ]
  },
  {
   "cell_type": "code",
   "execution_count": 5,
   "metadata": {},
   "outputs": [
    {
     "name": "stdout",
     "output_type": "stream",
     "text": [
      "2023-07-25 19:37:57.134474: I tensorflow/core/platform/cpu_feature_guard.cc:193] This TensorFlow binary is optimized with oneAPI Deep Neural Network Library (oneDNN) to use the following CPU instructions in performance-critical operations:  AVX2 AVX512F FMA\n",
      "To enable them in other operations, rebuild TensorFlow with the appropriate compiler flags.\n",
      "2023-07-25 19:37:58.406093: W tensorflow/compiler/xla/stream_executor/platform/default/dso_loader.cc:64] Could not load dynamic library 'libnvinfer.so.7'; dlerror: libnvinfer.so.7: cannot open shared object file: No such file or directory\n",
      "2023-07-25 19:37:58.406186: W tensorflow/compiler/xla/stream_executor/platform/default/dso_loader.cc:64] Could not load dynamic library 'libnvinfer_plugin.so.7'; dlerror: libnvinfer_plugin.so.7: cannot open shared object file: No such file or directory\n",
      "2023-07-25 19:37:58.406199: W tensorflow/compiler/tf2tensorrt/utils/py_utils.cc:38] TF-TRT Warning: Cannot dlopen some TensorRT libraries. If you would like to use Nvidia GPU with TensorRT, please make sure the missing libraries mentioned above are installed properly.\n",
      "[nltk_data] Downloading package punkt to /h/snajafi/nltk_data...\n",
      "[nltk_data]   Package punkt is already up-to-date!\n",
      "2023-07-25 19:38:02.892805: W tensorflow/compiler/xla/stream_executor/platform/default/dso_loader.cc:64] Could not load dynamic library 'libcusolver.so.11'; dlerror: libcusolver.so.11: cannot open shared object file: No such file or directory\n",
      "2023-07-25 19:38:02.892949: W tensorflow/core/common_runtime/gpu/gpu_device.cc:1934] Cannot dlopen some GPU libraries. Please make sure the missing libraries mentioned above are installed properly if you would like to use GPU. Follow the guide at https://www.tensorflow.org/install/gpu for how to download and setup the required libraries for your platform.\n",
      "Skipping registering GPU devices...\n",
      "W0725 19:38:10.969690 139992831799424 builder.py:835] Found cached dataset sst2 (/h/snajafi/.cache/huggingface/datasets/sst2/default/2.0.0/9896208a8d85db057ac50c72282bcb8fe755accc671a57dd8059d4e130961ed5)\n",
      "W0725 19:38:10.976804 139992831799424 arrow_dataset.py:3076] Loading cached processed dataset at /h/snajafi/.cache/huggingface/datasets/sst2/default/2.0.0/9896208a8d85db057ac50c72282bcb8fe755accc671a57dd8059d4e130961ed5/cache-addb34d4227cd0cd.arrow\n",
      "Predicting...\n"
     ]
    }
   ],
   "source": [
    "!TOKENIZERS_PARALLELISM=false python -m src.reference_implementations.prompt_zoo.trainer \\\n",
    "    --eval_batch_size 32 \\\n",
    "    --mode test \\\n",
    "    --seed 11 \\\n",
    "    --task_name sst2 \\\n",
    "    --test_file validation \\\n",
    "    --num_classes 2 \\\n",
    "    --exp_type no_finetune \\\n",
    "    --model_path ~/template_experiments/sst2/no_instruction \\\n",
    "    --para_model_path ~/template_experiments/sst2/no_instruction \\\n",
    "    --source_max_length 128 \\\n",
    "    --decoder_max_length 128 \\\n",
    "    --prediction_file ~/template_experiments/sst2/no_instruction/sst2.validation.no_instruction.all_predictions.csv \\\n",
    "    --instruction_type manual_template_research_sst2_no_instruction \\\n",
    "    --pretrained_model roberta-large \\\n",
    "    --enable_data_augmentation 0 \\\n",
    "    --enable_paraphrase_training 0 \\\n",
    "    --load_paraphraser 0 \\\n",
    "    --ensemble_type \"no_ensemble\" \\\n",
    "    --test_temperature 1.0 \\\n",
    "    --test_sample_size 8 \\\n",
    "    --g_beam_size 1 \\\n",
    "    --top_k 8 \\\n",
    "    --num_candidates 8 \\\n",
    "    --num_compose 1 \\\n",
    "    --meta_dir . \\\n",
    "    --meta_name search.txt \\\n",
    "    --level word \\\n",
    "    --test_sampling_algorithm \"top_p\" \\\n",
    "    --use_cache 1"
   ]
  },
  {
   "cell_type": "code",
   "execution_count": 6,
   "metadata": {},
   "outputs": [],
   "source": [
    "!mkdir -p \"~/template_experiments/sst2/with_instruction_with_paraphrases/\""
   ]
  },
  {
   "cell_type": "code",
   "execution_count": 7,
   "metadata": {},
   "outputs": [
    {
     "name": "stdout",
     "output_type": "stream",
     "text": [
      "2023-07-25 19:52:16.309912: I tensorflow/core/platform/cpu_feature_guard.cc:193] This TensorFlow binary is optimized with oneAPI Deep Neural Network Library (oneDNN) to use the following CPU instructions in performance-critical operations:  AVX2 AVX512F FMA\n",
      "To enable them in other operations, rebuild TensorFlow with the appropriate compiler flags.\n",
      "2023-07-25 19:52:17.461201: W tensorflow/compiler/xla/stream_executor/platform/default/dso_loader.cc:64] Could not load dynamic library 'libnvinfer.so.7'; dlerror: libnvinfer.so.7: cannot open shared object file: No such file or directory\n",
      "2023-07-25 19:52:17.461297: W tensorflow/compiler/xla/stream_executor/platform/default/dso_loader.cc:64] Could not load dynamic library 'libnvinfer_plugin.so.7'; dlerror: libnvinfer_plugin.so.7: cannot open shared object file: No such file or directory\n",
      "2023-07-25 19:52:17.461309: W tensorflow/compiler/tf2tensorrt/utils/py_utils.cc:38] TF-TRT Warning: Cannot dlopen some TensorRT libraries. If you would like to use Nvidia GPU with TensorRT, please make sure the missing libraries mentioned above are installed properly.\n",
      "[nltk_data] Downloading package punkt to /h/snajafi/nltk_data...\n",
      "[nltk_data]   Package punkt is already up-to-date!\n",
      "2023-07-25 19:52:23.848264: W tensorflow/compiler/xla/stream_executor/platform/default/dso_loader.cc:64] Could not load dynamic library 'libcusolver.so.11'; dlerror: libcusolver.so.11: cannot open shared object file: No such file or directory\n",
      "2023-07-25 19:52:23.848417: W tensorflow/core/common_runtime/gpu/gpu_device.cc:1934] Cannot dlopen some GPU libraries. Please make sure the missing libraries mentioned above are installed properly if you would like to use GPU. Follow the guide at https://www.tensorflow.org/install/gpu for how to download and setup the required libraries for your platform.\n",
      "Skipping registering GPU devices...\n",
      "W0725 19:52:39.672801 139865568800896 builder.py:835] Found cached dataset sst2 (/h/snajafi/.cache/huggingface/datasets/sst2/default/2.0.0/9896208a8d85db057ac50c72282bcb8fe755accc671a57dd8059d4e130961ed5)\n",
      "W0725 19:52:39.680000 139865568800896 arrow_dataset.py:3076] Loading cached processed dataset at /h/snajafi/.cache/huggingface/datasets/sst2/default/2.0.0/9896208a8d85db057ac50c72282bcb8fe755accc671a57dd8059d4e130961ed5/cache-addb34d4227cd0cd.arrow\n",
      "Predicting...\n"
     ]
    }
   ],
   "source": [
    "!TOKENIZERS_PARALLELISM=false python -m src.reference_implementations.prompt_zoo.trainer \\\n",
    "    --eval_batch_size 32 \\\n",
    "    --mode test \\\n",
    "    --seed 11 \\\n",
    "    --task_name sst2 \\\n",
    "    --test_file validation \\\n",
    "    --num_classes 2 \\\n",
    "    --exp_type no_finetune \\\n",
    "    --model_path ~/template_experiments/sst2/with_instruction_with_paraphrases \\\n",
    "    --para_model_path ~/template_experiments/sst2/with_instruction_with_paraphrases \\\n",
    "    --source_max_length 128 \\\n",
    "    --decoder_max_length 128 \\\n",
    "    --prediction_file ~/template_experiments/sst2/with_instruction_with_paraphrases/sst2.validation.with_instruction.all_predictions.csv \\\n",
    "    --instruction_type manual_template_research_sst2_with_instruction \\\n",
    "    --pretrained_model roberta-large \\\n",
    "    --enable_data_augmentation 1 \\\n",
    "    --enable_paraphrase_training 0 \\\n",
    "    --load_paraphraser 0 \\\n",
    "    --ensemble_type \"paraphrase_predict\" \\\n",
    "    --test_temperature 1.0 \\\n",
    "    --test_sample_size 8 \\\n",
    "    --g_beam_size 1 \\\n",
    "    --top_k 8 \\\n",
    "    --num_candidates 8 \\\n",
    "    --num_compose 1 \\\n",
    "    --meta_dir . \\\n",
    "    --meta_name search.txt \\\n",
    "    --level word \\\n",
    "    --test_sampling_algorithm \"top_p\" \\\n",
    "    --use_cache 1"
   ]
  },
  {
   "cell_type": "code",
   "execution_count": null,
   "metadata": {},
   "outputs": [],
   "source": []
  }
 ],
 "metadata": {
  "kernelspec": {
   "display_name": "paraprompt",
   "language": "python",
   "name": "paraprompt"
  },
  "language_info": {
   "codemirror_mode": {
    "name": "ipython",
    "version": 3
   },
   "file_extension": ".py",
   "mimetype": "text/x-python",
   "name": "python",
   "nbconvert_exporter": "python",
   "pygments_lexer": "ipython3",
   "version": "3.9.10"
  },
  "vscode": {
   "interpreter": {
    "hash": "36cf16204b8548560b1c020c4e8fb5b57f0e4c58016f52f2d4be01e192833930"
   }
  }
 },
 "nbformat": 4,
 "nbformat_minor": 4
}
