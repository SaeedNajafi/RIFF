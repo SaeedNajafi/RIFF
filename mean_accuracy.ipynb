{
 "cells": [
  {
   "cell_type": "code",
   "execution_count": 23,
   "id": "37e5ef2a-2229-4c09-8e77-2eca018bfbea",
   "metadata": {},
   "outputs": [],
   "source": [
    "from typing import Dict, List\n",
    "\n",
    "from src.reference_implementations.prompt_zoo.metrics import sentiment_metric"
   ]
  },
  {
   "cell_type": "code",
   "execution_count": 25,
   "id": "e89e00aa-65a8-4470-b4e2-431683b4b6a4",
   "metadata": {},
   "outputs": [
    {
     "name": "stdout",
     "output_type": "stream",
     "text": [
      "~/checkpoint/sst2_2_32_classifier_finetune_11_0.01_25_1_0_0_original_accuracy/sst2.validation.with_instruction.classifier_finetune.all_predictions.csv\n",
      "~/checkpoint/sst2_2_32_classifier_finetune_42_0.01_25_1_0_0_original_accuracy/sst2.validation.with_instruction.classifier_finetune.all_predictions.csv\n",
      "~/checkpoint/sst2_2_32_classifier_finetune_1993_0.01_25_1_0_0_original_accuracy/sst2.validation.with_instruction.classifier_finetune.all_predictions.csv\n",
      "~/checkpoint/sst2_2_32_classifier_finetune_2023_0.01_25_1_0_0_original_accuracy/sst2.validation.with_instruction.classifier_finetune.all_predictions.csv\n",
      "~/checkpoint/sst2_2_32_classifier_finetune_12321_0.01_25_1_0_0_original_accuracy/sst2.validation.with_instruction.classifier_finetune.all_predictions.csv\n",
      "all_finetune_0 0.9137614678899084\n",
      "all_finetune_1 0.8942660550458715 0.8736238532110091\n",
      "input_finetune_0 0.9107798165137615\n",
      "input_finetune_1 0.8961009174311927 0.884862385321101\n",
      "output_finetune_0 0.8754587155963304\n",
      "output_finetune_1 0.875 0.8410550458715595\n",
      "soft_prompt_finetune_0 0.8025229357798166\n",
      "soft_prompt_finetune_1 0.7743119266055045 0.7227064220183487\n",
      "classifier_finetune_0 0.6752293577981652\n",
      "classifier_finetune_1 0.0 0.0\n"
     ]
    }
   ],
   "source": [
    "techniques = [\"all_finetune\", \"input_finetune\", \"output_finetune\", \"soft_prompt_finetune\", \"classifier_finetune\"]\n",
    "learning_rates = [\"0.00001\", \"0.001\", \"0.001\", \"0.001\", \"0.01\"]\n",
    "seeds = [\"11\", \"42\", \"1993\", \"2023\", \"12321\"]\n",
    "augs = [\"0\", \"1\"]\n",
    "\n",
    "main_path = \"~/checkpoint\"\n",
    "\n",
    "original_result_arr: Dict[str, List] = {}\n",
    "all_result_arr: Dict[str, List] = {}\n",
    "for idx, tech in enumerate(techniques):\n",
    "    for aug in augs:\n",
    "        original_result_arr[f\"{tech}_{aug}\"] = []\n",
    "        all_result_arr[f\"{tech}_{aug}\"] = []\n",
    "\n",
    "for idx, tech in enumerate(techniques):\n",
    "    for aug in augs:\n",
    "        for seed in seeds:\n",
    "            try:\n",
    "                file_name = f\"{main_path}/sst2_2_32_{tech}_{seed}\"\n",
    "                file_name = f\"{file_name}_{learning_rates[idx]}_25_{aug}_0_0_original_accuracy\"\n",
    "                file_name = f\"{file_name}/sst2.validation.with_instruction.{tech}.all_predictions.csv\"\n",
    "                scores = sentiment_metric(file_name)\n",
    "                original_result_arr[f\"{tech}_{aug}\"].append(scores[\"original_accuracy\"])\n",
    "                if aug == \"1\":\n",
    "                    all_result_arr[f\"{tech}_{aug}\"].append(scores[\"all_accuracy\"])\n",
    "            except:\n",
    "                print(file_name)\n",
    "\n",
    "for idx, tech in enumerate(techniques):\n",
    "    for aug in augs:\n",
    "        if aug == \"1\":\n",
    "            print(\n",
    "                f\"{tech}_{aug}\",\n",
    "                sum(original_result_arr[f\"{tech}_{aug}\"]) / len(seeds),\n",
    "                sum(all_result_arr[f\"{tech}_{aug}\"]) / len(seeds),\n",
    "            )\n",
    "        else:\n",
    "            print(f\"{tech}_{aug}\", sum(original_result_arr[f\"{tech}_{aug}\"]) / len(seeds))"
   ]
  },
  {
   "cell_type": "code",
   "execution_count": null,
   "id": "c7bea1e6-fe1f-4afe-afc4-30a5be54855a",
   "metadata": {},
   "outputs": [],
   "source": []
  }
 ],
 "metadata": {
  "kernelspec": {
   "display_name": "Python 3",
   "language": "python",
   "name": "python3"
  },
  "language_info": {
   "codemirror_mode": {
    "name": "ipython",
    "version": 3
   },
   "file_extension": ".py",
   "mimetype": "text/x-python",
   "name": "python",
   "nbconvert_exporter": "python",
   "pygments_lexer": "ipython3",
   "version": "3.8.10"
  }
 },
 "nbformat": 4,
 "nbformat_minor": 5
}
