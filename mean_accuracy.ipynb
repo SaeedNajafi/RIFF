{
 "cells": [
  {
   "cell_type": "code",
   "execution_count": 6,
   "id": "37e5ef2a-2229-4c09-8e77-2eca018bfbea",
   "metadata": {},
   "outputs": [],
   "source": [
    "from typing import Dict, List\n",
    "\n",
    "from src.reference_implementations.prompt_zoo.metrics import sentiment_metric"
   ]
  },
  {
   "cell_type": "code",
   "execution_count": 8,
   "id": "e89e00aa-65a8-4470-b4e2-431683b4b6a4",
   "metadata": {},
   "outputs": [
    {
     "name": "stdout",
     "output_type": "stream",
     "text": [
      "[0.9323394495412844, 0.9162844036697247, 0.9071100917431193, 0.9220183486238532, 0.8910550458715596]\n",
      "all_finetune_0 0.9137614678899084\n",
      "[0.926605504587156, 0.9036697247706422, 0.8967889908256881, 0.9128440366972477, 0.9139908256880734]\n",
      "input_finetune_0 0.9107798165137615\n",
      "[0.8876146788990825, 0.8600917431192661, 0.8681192660550459, 0.8979357798165137, 0.8635321100917431]\n",
      "output_finetune_0 0.8754587155963304\n",
      "[0.8222477064220184, 0.7522935779816514, 0.7545871559633027, 0.8681192660550459, 0.8153669724770642]\n",
      "soft_prompt_finetune_0 0.8025229357798166\n",
      "[0.7603211009174312, 0.7087155963302753, 0.6662844036697247, 0.6720183486238532, 0.5688073394495413]\n",
      "classifier_finetune_0 0.6752293577981652\n",
      "[0.8532110091743119, 0.7729357798165137, 0.8348623853211009, 0.9105504587155964, 0.8543577981651376]\n",
      "gradient_search_0 0.845183486238532\n"
     ]
    }
   ],
   "source": [
    "techniques = [\n",
    "    \"all_finetune\",\n",
    "    \"input_finetune\",\n",
    "    \"output_finetune\",\n",
    "    \"soft_prompt_finetune\",\n",
    "    \"classifier_finetune\",\n",
    "    \"gradient_search\",\n",
    "]\n",
    "learning_rates = [\"0.00001\", \"0.001\", \"0.001\", \"0.001\", \"0.01\", \"0.001\"]\n",
    "seeds = [\"11\", \"42\", \"1993\", \"2023\", \"12321\"]\n",
    "augs = [\"0\"]\n",
    "\n",
    "main_path = \"/home/ubuntu/sst2-results-32-shot\"\n",
    "\n",
    "original_result_arr: Dict[str, List] = {}\n",
    "for idx, tech in enumerate(techniques):\n",
    "    for aug in augs:\n",
    "        original_result_arr[f\"{tech}_{aug}\"] = []\n",
    "\n",
    "for idx, tech in enumerate(techniques):\n",
    "    for aug in augs:\n",
    "        for seed in seeds:\n",
    "            file_name = f\"{main_path}/sst2_2_32_{tech}_{seed}\"\n",
    "            file_name = f\"{file_name}_{learning_rates[idx]}_25_{aug}_0_0_original_accuracy\"\n",
    "            file_name = f\"{file_name}/sst2.validation.with_instruction.{tech}.all_predictions.csv\"\n",
    "            scores = sentiment_metric(file_name)\n",
    "            original_result_arr[f\"{tech}_{aug}\"].append(scores[\"original_accuracy\"])\n",
    "\n",
    "for idx, tech in enumerate(techniques):\n",
    "    for aug in augs:\n",
    "        print(original_result_arr[f\"{tech}_{aug}\"])\n",
    "        print(f\"{tech}_{aug}\", sum(original_result_arr[f\"{tech}_{aug}\"]) / len(seeds))"
   ]
  },
  {
   "cell_type": "code",
   "execution_count": 5,
   "id": "c7bea1e6-fe1f-4afe-afc4-30a5be54855a",
   "metadata": {},
   "outputs": [
    {
     "name": "stdout",
     "output_type": "stream",
     "text": [
      "all_finetune_0 0.4792007266121708\n",
      "input_finetune_0 0.40617620345140776\n",
      "output_finetune_0 0.40490463215258854\n",
      "soft_prompt_finetune_0 0.32806539509536786\n",
      "classifier_finetune_0 0.3188010899182561\n"
     ]
    }
   ],
   "source": [
    "# for sst5\n",
    "techniques = [\n",
    "    \"all_finetune\",\n",
    "    \"input_finetune\",\n",
    "    \"output_finetune\",\n",
    "    \"soft_prompt_finetune\",\n",
    "    \"classifier_finetune\",\n",
    "]\n",
    "learning_rates = [\"0.00001\", \"0.001\", \"0.001\", \"0.001\", \"0.01\", \"0.001\"]\n",
    "seeds = [\"11\", \"42\", \"1993\", \"2023\", \"12321\"]\n",
    "augs = [\"0\"]\n",
    "\n",
    "main_path = \"/home/ubuntu/sst5-results-32-shot\"\n",
    "\n",
    "original_result_arr = {}\n",
    "for idx, tech in enumerate(techniques):\n",
    "    for aug in augs:\n",
    "        original_result_arr[f\"{tech}_{aug}\"] = []\n",
    "\n",
    "for idx, tech in enumerate(techniques):\n",
    "    for aug in augs:\n",
    "        for seed in seeds:\n",
    "            file_name = f\"{main_path}/SetFit_sst5_5_32_{tech}_{seed}\"\n",
    "            file_name = f\"{file_name}_{learning_rates[idx]}_25_{aug}_0_0_original_accuracy\"\n",
    "            file_name = f\"{file_name}/SetFit_sst5.validation.with_instruction.{tech}.all_predictions.csv\"\n",
    "            scores = sentiment_metric(file_name)\n",
    "            original_result_arr[f\"{tech}_{aug}\"].append(scores[\"original_accuracy\"])\n",
    "\n",
    "for idx, tech in enumerate(techniques):\n",
    "    for aug in augs:\n",
    "        print(original_result_arr[f\"{tech}_{aug}\"])\n",
    "        print(f\"{tech}_{aug}\", sum(original_result_arr[f\"{tech}_{aug}\"]) / len(seeds))"
   ]
  },
  {
   "cell_type": "code",
   "execution_count": 10,
   "id": "aa133abd-1b23-4e74-a5d7-44ecdb6c2367",
   "metadata": {},
   "outputs": [
    {
     "name": "stdout",
     "output_type": "stream",
     "text": [
      "[0.930045871559633, 0.875, 0.8979357798165137, 0.9288990825688074, 0.9415137614678899]\n",
      "all_finetune_1 0.9146788990825689\n",
      "[0.8704128440366973, 0.9048165137614679, 0.8956422018348624, 0.9174311926605505, 0.8990825688073395]\n",
      "input_finetune_1 0.8974770642201836\n",
      "[0.875, 0.8669724770642202, 0.8555045871559633, 0.8910550458715596, 0.8704128440366973]\n",
      "output_finetune_1 0.8717889908256881\n",
      "[0.7706422018348624, 0.7454128440366973, 0.661697247706422, 0.8681192660550459, 0.8038990825688074]\n",
      "soft_prompt_finetune_1 0.7699541284403668\n",
      "[0.7924311926605505, 0.7052752293577982, 0.6823394495412844, 0.6399082568807339, 0.661697247706422]\n",
      "classifier_finetune_1 0.6963302752293578\n"
     ]
    }
   ],
   "source": [
    "# for sst2 with data augmentation\n",
    "techniques = [\n",
    "    \"all_finetune\",\n",
    "    \"input_finetune\",\n",
    "    \"output_finetune\",\n",
    "    \"soft_prompt_finetune\",\n",
    "    \"classifier_finetune\",\n",
    "]\n",
    "learning_rates = [\"0.00001\", \"0.001\", \"0.001\", \"0.001\", \"0.01\", \"0.001\"]\n",
    "seeds = [\"11\", \"42\", \"1993\", \"2023\", \"12321\"]\n",
    "augs = [\"1\"]\n",
    "\n",
    "main_path = \"/home/ubuntu/sst2-results-32-shot\"\n",
    "\n",
    "original_result_arr = {}\n",
    "for idx, tech in enumerate(techniques):\n",
    "    for aug in augs:\n",
    "        original_result_arr[f\"{tech}_{aug}\"] = []\n",
    "\n",
    "for idx, tech in enumerate(techniques):\n",
    "    for aug in augs:\n",
    "        for seed in seeds:\n",
    "            file_name = f\"{main_path}/sst2_2_32_{tech}_{seed}\"\n",
    "            file_name = f\"{file_name}_{learning_rates[idx]}_25_{aug}_0_0_original_accuracy\"\n",
    "            file_name = f\"{file_name}/sst2.validation.with_instruction.{tech}.all_predictions.csv\"\n",
    "            scores = sentiment_metric(file_name)\n",
    "            original_result_arr[f\"{tech}_{aug}\"].append(scores[\"original_accuracy\"])\n",
    "\n",
    "for idx, tech in enumerate(techniques):\n",
    "    for aug in augs:\n",
    "        print(original_result_arr[f\"{tech}_{aug}\"])\n",
    "        print(f\"{tech}_{aug}\", sum(original_result_arr[f\"{tech}_{aug}\"]) / len(seeds))"
   ]
  },
  {
   "cell_type": "code",
   "execution_count": null,
   "id": "9f8dbd71-c977-4333-b54a-8900aec3afda",
   "metadata": {},
   "outputs": [],
   "source": []
  }
 ],
 "metadata": {
  "kernelspec": {
   "display_name": "Python 3",
   "language": "python",
   "name": "python3"
  },
  "language_info": {
   "codemirror_mode": {
    "name": "ipython",
    "version": 3
   },
   "file_extension": ".py",
   "mimetype": "text/x-python",
   "name": "python",
   "nbconvert_exporter": "python",
   "pygments_lexer": "ipython3",
   "version": "3.8.10"
  }
 },
 "nbformat": 4,
 "nbformat_minor": 5
}
