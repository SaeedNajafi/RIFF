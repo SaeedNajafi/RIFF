{
 "cells": [
  {
   "cell_type": "code",
   "execution_count": 3,
   "id": "37e5ef2a-2229-4c09-8e77-2eca018bfbea",
   "metadata": {},
   "outputs": [],
   "source": [
    "from typing import Dict, List\n",
    "\n",
    "from src.reference_implementations.prompt_zoo.metrics import sentiment_metric"
   ]
  },
  {
   "cell_type": "code",
   "execution_count": 2,
   "id": "e89e00aa-65a8-4470-b4e2-431683b4b6a4",
   "metadata": {},
   "outputs": [
    {
     "name": "stdout",
     "output_type": "stream",
     "text": [
      "all_finetune_0 0.9137614678899084\n",
      "input_finetune_0 0.9107798165137615\n",
      "output_finetune_0 0.8754587155963304\n",
      "soft_prompt_finetune_0 0.8025229357798166\n",
      "classifier_finetune_0 0.6752293577981652\n",
      "gradient_search_0 0.845183486238532\n"
     ]
    }
   ],
   "source": [
    "techniques = [\n",
    "    \"all_finetune\",\n",
    "    \"input_finetune\",\n",
    "    \"output_finetune\",\n",
    "    \"soft_prompt_finetune\",\n",
    "    \"classifier_finetune\",\n",
    "    \"gradient_search\",\n",
    "]\n",
    "learning_rates = [\"0.00001\", \"0.001\", \"0.001\", \"0.001\", \"0.01\", \"0.001\"]\n",
    "seeds = [\"11\", \"42\", \"1993\", \"2023\", \"12321\"]\n",
    "augs = [\"0\"]\n",
    "\n",
    "main_path = \"/home/ubuntu/sst2-results-32-shot\"\n",
    "\n",
    "original_result_arr: Dict[str, List] = {}\n",
    "for idx, tech in enumerate(techniques):\n",
    "    for aug in augs:\n",
    "        original_result_arr[f\"{tech}_{aug}\"] = []\n",
    "\n",
    "for idx, tech in enumerate(techniques):\n",
    "    for aug in augs:\n",
    "        for seed in seeds:\n",
    "            file_name = f\"{main_path}/sst2_2_32_{tech}_{seed}\"\n",
    "            file_name = f\"{file_name}_{learning_rates[idx]}_25_{aug}_0_0_original_accuracy\"\n",
    "            file_name = f\"{file_name}/sst2.validation.with_instruction.{tech}.all_predictions.csv\"\n",
    "            scores = sentiment_metric(file_name)\n",
    "            original_result_arr[f\"{tech}_{aug}\"].append(scores[\"original_accuracy\"])\n",
    "\n",
    "for idx, tech in enumerate(techniques):\n",
    "    for aug in augs:\n",
    "        print(f\"{tech}_{aug}\", sum(original_result_arr[f\"{tech}_{aug}\"]) / len(seeds))"
   ]
  },
  {
   "cell_type": "code",
   "execution_count": 5,
   "id": "c7bea1e6-fe1f-4afe-afc4-30a5be54855a",
   "metadata": {},
   "outputs": [
    {
     "name": "stdout",
     "output_type": "stream",
     "text": [
      "all_finetune_0 0.4792007266121708\n",
      "input_finetune_0 0.40617620345140776\n",
      "output_finetune_0 0.40490463215258854\n",
      "soft_prompt_finetune_0 0.32806539509536786\n",
      "classifier_finetune_0 0.3188010899182561\n"
     ]
    }
   ],
   "source": [
    "# for sst5\n",
    "techniques = [\n",
    "    \"all_finetune\",\n",
    "    \"input_finetune\",\n",
    "    \"output_finetune\",\n",
    "    \"soft_prompt_finetune\",\n",
    "    \"classifier_finetune\",\n",
    "]\n",
    "learning_rates = [\"0.00001\", \"0.001\", \"0.001\", \"0.001\", \"0.01\", \"0.001\"]\n",
    "seeds = [\"11\", \"42\", \"1993\", \"2023\", \"12321\"]\n",
    "augs = [\"0\"]\n",
    "\n",
    "main_path = \"/home/ubuntu/sst5-results-32-shot\"\n",
    "\n",
    "original_result_arr = {}\n",
    "for idx, tech in enumerate(techniques):\n",
    "    for aug in augs:\n",
    "        original_result_arr[f\"{tech}_{aug}\"] = []\n",
    "\n",
    "for idx, tech in enumerate(techniques):\n",
    "    for aug in augs:\n",
    "        for seed in seeds:\n",
    "            file_name = f\"{main_path}/SetFit_sst5_5_32_{tech}_{seed}\"\n",
    "            file_name = f\"{file_name}_{learning_rates[idx]}_25_{aug}_0_0_original_accuracy\"\n",
    "            file_name = f\"{file_name}/SetFit_sst5.validation.with_instruction.{tech}.all_predictions.csv\"\n",
    "            scores = sentiment_metric(file_name)\n",
    "            original_result_arr[f\"{tech}_{aug}\"].append(scores[\"original_accuracy\"])\n",
    "\n",
    "for idx, tech in enumerate(techniques):\n",
    "    for aug in augs:\n",
    "        print(f\"{tech}_{aug}\", sum(original_result_arr[f\"{tech}_{aug}\"]) / len(seeds))"
   ]
  },
  {
   "cell_type": "code",
   "execution_count": null,
   "id": "aa133abd-1b23-4e74-a5d7-44ecdb6c2367",
   "metadata": {},
   "outputs": [],
   "source": []
  }
 ],
 "metadata": {
  "kernelspec": {
   "display_name": "Python 3",
   "language": "python",
   "name": "python3"
  },
  "language_info": {
   "codemirror_mode": {
    "name": "ipython",
    "version": 3
   },
   "file_extension": ".py",
   "mimetype": "text/x-python",
   "name": "python",
   "nbconvert_exporter": "python",
   "pygments_lexer": "ipython3",
   "version": "3.8.10"
  }
 },
 "nbformat": 4,
 "nbformat_minor": 5
}
