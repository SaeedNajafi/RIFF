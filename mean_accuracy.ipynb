{
 "cells": [
  {
   "cell_type": "code",
   "execution_count": 1,
   "id": "37e5ef2a-2229-4c09-8e77-2eca018bfbea",
   "metadata": {},
   "outputs": [],
   "source": [
    "from typing import Dict, List\n",
    "\n",
    "from src.reference_implementations.prompt_zoo.metrics import sentiment_metric"
   ]
  },
  {
   "cell_type": "code",
   "execution_count": 3,
   "id": "e89e00aa-65a8-4470-b4e2-431683b4b6a4",
   "metadata": {},
   "outputs": [
    {
     "name": "stdout",
     "output_type": "stream",
     "text": [
      "all_finetune_0 0.9119266055045872\n",
      "input_finetune_0 0.9224770642201834\n",
      "output_finetune_0 0.9103211009174312\n",
      "soft_prompt_finetune_0 0.9006880733944953\n",
      "classifier_finetune_0 0.8295871559633028\n",
      "gradient_search_0 0.8807339449541285\n"
     ]
    }
   ],
   "source": [
    "techniques = [\n",
    "    \"all_finetune\",\n",
    "    \"input_finetune\",\n",
    "    \"output_finetune\",\n",
    "    \"soft_prompt_finetune\",\n",
    "    \"classifier_finetune\",\n",
    "    \"gradient_search\",\n",
    "]\n",
    "learning_rates = [\"0.00001\", \"0.001\", \"0.001\", \"0.001\", \"0.01\", \"0.001\"]\n",
    "seeds = [\"11\", \"42\", \"1993\", \"2023\", \"12321\"]\n",
    "augs = [\"0\"]\n",
    "\n",
    "main_path = \"/checkpoint/snajafi/sst2-128-with-aug\"\n",
    "\n",
    "original_result_arr: Dict[str, List] = {}\n",
    "for idx, tech in enumerate(techniques):\n",
    "    for aug in augs:\n",
    "        original_result_arr[f\"{tech}_{aug}\"] = []\n",
    "\n",
    "for idx, tech in enumerate(techniques):\n",
    "    for aug in augs:\n",
    "        for seed in seeds:\n",
    "            file_name = f\"{main_path}/sst2_2_128_{tech}_{seed}\"\n",
    "            file_name = f\"{file_name}_{learning_rates[idx]}_25_{aug}_0_0_original_accuracy\"\n",
    "            if tech == \"gradient_search\":\n",
    "                file_name = f\"{file_name}/sst2.validation.with_instruction.{tech}.all_predictions.csv\"\n",
    "            else:\n",
    "                file_name = f\"{file_name}/sst2.validation.with_instruction.{tech}.all_predictions.predictions.csv\"\n",
    "            scores = sentiment_metric(file_name)\n",
    "            original_result_arr[f\"{tech}_{aug}\"].append(scores[\"original_accuracy\"])\n",
    "\n",
    "for idx, tech in enumerate(techniques):\n",
    "    for aug in augs:\n",
    "        print(f\"{tech}_{aug}\", sum(original_result_arr[f\"{tech}_{aug}\"]) / len(seeds))"
   ]
  },
  {
   "cell_type": "code",
   "execution_count": null,
   "id": "c7bea1e6-fe1f-4afe-afc4-30a5be54855a",
   "metadata": {},
   "outputs": [],
   "source": []
  }
 ],
 "metadata": {
  "kernelspec": {
   "display_name": "paraprompt",
   "language": "python",
   "name": "paraprompt"
  },
  "language_info": {
   "codemirror_mode": {
    "name": "ipython",
    "version": 3
   },
   "file_extension": ".py",
   "mimetype": "text/x-python",
   "name": "python",
   "nbconvert_exporter": "python",
   "pygments_lexer": "ipython3",
   "version": "3.9.10"
  }
 },
 "nbformat": 4,
 "nbformat_minor": 5
}
