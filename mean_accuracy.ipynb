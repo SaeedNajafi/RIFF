{
 "cells": [
  {
   "cell_type": "code",
   "execution_count": 1,
   "id": "37e5ef2a-2229-4c09-8e77-2eca018bfbea",
   "metadata": {},
   "outputs": [],
   "source": [
    "from typing import Dict, List\n",
    "\n",
    "from src.reference_implementations.prompt_zoo.metrics import sentiment_metric"
   ]
  },
  {
   "cell_type": "code",
   "execution_count": 5,
   "id": "e89e00aa-65a8-4470-b4e2-431683b4b6a4",
   "metadata": {},
   "outputs": [
    {
     "name": "stdout",
     "output_type": "stream",
     "text": [
      "original accuracy: all_finetune_0 91.6\n",
      "original accuracy: all_finetune_1 91.9\n",
      "all accuracy: all_finetune_1 92.0\n",
      "original accuracy: lora_finetune_0 91.7\n",
      "original accuracy: lora_finetune_1 91.8\n",
      "all accuracy: lora_finetune_1 92.0\n",
      "original accuracy: soft_prompt_finetune_0 87.5\n",
      "original accuracy: soft_prompt_finetune_1 85.8\n",
      "all accuracy: soft_prompt_finetune_1 85.8\n",
      "original accuracy: input_finetune_0 85.4\n",
      "original accuracy: input_finetune_1 90.3\n",
      "all accuracy: input_finetune_1 90.7\n",
      "original accuracy: output_finetune_0 89.6\n",
      "original accuracy: output_finetune_1 89.6\n",
      "all accuracy: output_finetune_1 89.9\n",
      "original accuracy: classifier_finetune_0 72.7\n",
      "original accuracy: classifier_finetune_1 72.8\n",
      "all accuracy: classifier_finetune_1 70.1\n"
     ]
    }
   ],
   "source": [
    "techniques = {\n",
    "    \"all_finetune\": \"0.00001\",\n",
    "    \"lora_finetune\": \"0.0001\",\n",
    "    \"soft_prompt_finetune\": \"0.001\",\n",
    "    \"input_finetune\": \"0.001\",\n",
    "    \"output_finetune\": \"0.00001\",\n",
    "    \"classifier_finetune\": \"0.001\",\n",
    "    # \"grips\": \"0.5\",\n",
    "    # \"gradient_search\": \"0.5\",\n",
    "}\n",
    "seeds = [\"11\", \"42\", \"1993\", \"2023\", \"12321\"]\n",
    "augs = [\"0\", \"1\"]\n",
    "main_path = \"/checkpoint/snajafi/sst2-32-results\"\n",
    "\n",
    "original_result_arr: Dict[str, List] = {}\n",
    "all_result_arr: Dict[str, List] = {}\n",
    "for tech in techniques.keys():\n",
    "    for aug in augs:\n",
    "        original_result_arr[f\"{tech}_{aug}\"] = []\n",
    "        all_result_arr[f\"{tech}_{aug}\"] = []\n",
    "\n",
    "for tech, lr in techniques.items():\n",
    "    for aug in augs:\n",
    "        for seed in seeds:\n",
    "            file_name = f\"{main_path}/sst2_2_32_{tech}_{seed}\"\n",
    "            file_name = f\"{file_name}_{lr}_25_{aug}_0_0_original_accuracy\"\n",
    "            file_name = f\"{file_name}/sst2.validation.with_instruction.{tech}.all_predictions.csv\"\n",
    "            scores = sentiment_metric(file_name)\n",
    "            original_result_arr[f\"{tech}_{aug}\"].append(scores[\"original_accuracy\"])\n",
    "            if aug == \"1\":\n",
    "                all_result_arr[f\"{tech}_{aug}\"].append(scores[\"all_accuracy\"])\n",
    "\n",
    "for tech, lr in techniques.items():\n",
    "    for aug in augs:\n",
    "        print(\n",
    "            f\"original accuracy: {tech}_{aug}\", round(100 * sum(original_result_arr[f\"{tech}_{aug}\"]) / len(seeds), 1)\n",
    "        )\n",
    "        if aug == \"1\":\n",
    "            print(f\"all accuracy: {tech}_{aug}\", round(100 * sum(all_result_arr[f\"{tech}_{aug}\"]) / len(seeds), 1))"
   ]
  },
  {
   "cell_type": "code",
   "execution_count": 3,
   "id": "3ee91347",
   "metadata": {},
   "outputs": [
    {
     "name": "stdout",
     "output_type": "stream",
     "text": [
      "original accuracy: all_finetune_0 46.6\n",
      "original accuracy: lora_finetune_0 47.8\n",
      "original accuracy: soft_prompt_finetune_0 41.6\n",
      "original accuracy: input_finetune_0 43.2\n",
      "original accuracy: output_finetune_0 38.1\n",
      "original accuracy: classifier_finetune_0 33.8\n",
      "original accuracy: grips_0 29.3\n",
      "original accuracy: gradient_search_0 33.6\n"
     ]
    }
   ],
   "source": [
    "techniques = {\n",
    "    \"all_finetune\": \"0.00001\",\n",
    "    \"lora_finetune\": \"0.0001\",\n",
    "    \"soft_prompt_finetune\": \"0.001\",\n",
    "    \"input_finetune\": \"0.001\",\n",
    "    \"output_finetune\": \"0.00001\",\n",
    "    \"classifier_finetune\": \"0.001\",\n",
    "    \"grips\": \"0.5\",\n",
    "    \"gradient_search\": \"0.5\",\n",
    "}\n",
    "seeds = [\"11\", \"42\", \"1993\", \"2023\", \"12321\"]\n",
    "# augs = [\"0\", \"1\"]\n",
    "augs = [\"0\"]\n",
    "main_path = \"/checkpoint/snajafi/sst5-32-results\"\n",
    "\n",
    "original_result_arr = {}\n",
    "all_result_arr = {}\n",
    "for tech in techniques.keys():\n",
    "    for aug in augs:\n",
    "        original_result_arr[f\"{tech}_{aug}\"] = []\n",
    "        all_result_arr[f\"{tech}_{aug}\"] = []\n",
    "\n",
    "for tech, lr in techniques.items():\n",
    "    for aug in augs:\n",
    "        for seed in seeds:\n",
    "            file_name = f\"{main_path}/SetFit_sst5_5_32_{tech}_{seed}\"\n",
    "            file_name = f\"{file_name}_{lr}_25_{aug}_0_0_original_accuracy\"\n",
    "            file_name = f\"{file_name}/SetFit_sst5.validation.with_instruction.{tech}.all_predictions.csv\"\n",
    "            scores = sentiment_metric(file_name)\n",
    "            original_result_arr[f\"{tech}_{aug}\"].append(scores[\"original_accuracy\"])\n",
    "            if aug == \"1\":\n",
    "                all_result_arr[f\"{tech}_{aug}\"].append(scores[\"all_accuracy\"])\n",
    "\n",
    "for tech, lr in techniques.items():\n",
    "    for aug in augs:\n",
    "        print(\n",
    "            f\"original accuracy: {tech}_{aug}\", round(100 * sum(original_result_arr[f\"{tech}_{aug}\"]) / len(seeds), 1)\n",
    "        )\n",
    "        if aug == \"1\":\n",
    "            print(f\"all accuracy: {tech}_{aug}\", round(100 * sum(all_result_arr[f\"{tech}_{aug}\"]) / len(seeds), 1))"
   ]
  }
 ],
 "metadata": {
  "kernelspec": {
   "display_name": "paraprompt",
   "language": "python",
   "name": "paraprompt"
  },
  "language_info": {
   "codemirror_mode": {
    "name": "ipython",
    "version": 3
   },
   "file_extension": ".py",
   "mimetype": "text/x-python",
   "name": "python",
   "nbconvert_exporter": "python",
   "pygments_lexer": "ipython3",
   "version": "3.9.10"
  }
 },
 "nbformat": 4,
 "nbformat_minor": 5
}
