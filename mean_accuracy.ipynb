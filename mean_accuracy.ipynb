{
 "cells": [
  {
   "cell_type": "code",
   "execution_count": 3,
   "id": "37e5ef2a-2229-4c09-8e77-2eca018bfbea",
   "metadata": {},
   "outputs": [],
   "source": [
    "from typing import Dict, List\n",
    "\n",
    "from src.reference_implementations.prompt_zoo.metrics import sentiment_metric"
   ]
  },
  {
   "cell_type": "code",
   "execution_count": null,
   "id": "5d5461e7",
   "metadata": {},
   "outputs": [],
   "source": [
    "techniques = {\n",
    "    # \"all_finetune\": \"0.00001\",\n",
    "    \"lora_finetune\": \"0.0001\",\n",
    "    # \"soft_prompt_finetune\": \"0.001\",\n",
    "    # \"input_finetune\": \"0.001\",\n",
    "    # \"output_finetune\": \"0.001\",\n",
    "    # \"classifier_finetune\": \"0.001\",\n",
    "    # \"gradient_search\": \"0.5\",\n",
    "}\n",
    "seeds = [\"13\", \"42\", \"100\", \"87\", \"21\"]\n",
    "# modes = [\"0_0_0\", \"1_0_1\"]\n",
    "modes = [\"1_0_1\"]\n",
    "main_path = \"/checkpoint/snajafi\"\n",
    "\n",
    "original_result_arr: Dict[str, List] = {}\n",
    "all_result_arr: Dict[str, List] = {}\n",
    "for tech in techniques.keys():\n",
    "    for mode in modes:\n",
    "        original_result_arr[f\"{tech}_{mode}\"] = []\n",
    "        all_result_arr[f\"{tech}_{mode}\"] = []\n",
    "\n",
    "for tech, lr in techniques.items():\n",
    "    for mode in modes:\n",
    "        for seed in seeds:\n",
    "            try:\n",
    "                file_name = f\"{main_path}/agnews_4_16_{tech}_{seed}\"\n",
    "                file_name = f\"{file_name}_{lr}_25_{mode}_original_accuracy\"\n",
    "                file_name = f\"{file_name}/agnews.validation.with_instruction.{tech}.all_predictions.csv\"\n",
    "                scores = sentiment_metric(file_name)\n",
    "                original_result_arr[f\"{tech}_{mode}\"].append(scores[\"original_accuracy\"])\n",
    "                if mode in [\"1_0_0\", \"1_0_1\"]:\n",
    "                    all_result_arr[f\"{tech}_{mode}\"].append(scores[\"all_accuracy\"])\n",
    "            except Exception:\n",
    "                print(file_name)\n",
    "\n",
    "for tech, lr in techniques.items():\n",
    "    print()\n",
    "    for mode in modes:\n",
    "        print(\n",
    "            f\"original accuracy: {tech}_{mode}\",\n",
    "            round(100 * sum(original_result_arr[f\"{tech}_{mode}\"]) / len(seeds), 1),\n",
    "        )\n",
    "        if mode in [\"1_0_0\", \"1_0_1\"]:\n",
    "            print(f\"all accuracy: {tech}_{mode}\", round(100 * sum(all_result_arr[f\"{tech}_{mode}\"]) / len(seeds), 1))"
   ]
  }
 ],
 "metadata": {
  "kernelspec": {
   "display_name": "prompt_torch-env",
   "language": "python",
   "name": "python3"
  },
  "language_info": {
   "codemirror_mode": {
    "name": "ipython",
    "version": 3
   },
   "file_extension": ".py",
   "mimetype": "text/x-python",
   "name": "python",
   "nbconvert_exporter": "python",
   "pygments_lexer": "ipython3",
   "version": "3.9.10"
  }
 },
 "nbformat": 4,
 "nbformat_minor": 5
}
