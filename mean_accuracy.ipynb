{
 "cells": [
  {
   "cell_type": "code",
   "execution_count": 19,
   "id": "37e5ef2a-2229-4c09-8e77-2eca018bfbea",
   "metadata": {},
   "outputs": [],
   "source": [
    "from typing import Dict, List\n",
    "\n",
    "from src.reference_implementations.prompt_zoo.metrics import sentiment_metric"
   ]
  },
  {
   "cell_type": "code",
   "execution_count": 22,
   "id": "e89e00aa-65a8-4470-b4e2-431683b4b6a4",
   "metadata": {},
   "outputs": [
    {
     "name": "stdout",
     "output_type": "stream",
     "text": [
      "all_finetune_0 0.9137614678899084\n",
      "all_finetune_1 0.9174311926605505 0.9107798165137613\n",
      "input_finetune_0 0.9107798165137615\n",
      "input_finetune_1 0.9110091743119266 0.9004587155963304\n",
      "output_finetune_0 0.8754587155963304\n",
      "output_finetune_1 0.8717889908256881 0.8383027522935779\n",
      "soft_prompt_finetune_0 0.8025229357798166\n",
      "soft_prompt_finetune_1 0.7938073394495413 0.7325688073394495\n",
      "classifier_finetune_0 0.6752293577981652\n",
      "classifier_finetune_1 0.6983944954128442 0.6011467889908257\n"
     ]
    }
   ],
   "source": [
    "techniques = [\"all_finetune\", \"input_finetune\", \"output_finetune\", \"soft_prompt_finetune\", \"classifier_finetune\"]\n",
    "learning_rates = [\"0.00001\", \"0.001\", \"0.001\", \"0.001\", \"0.01\"]\n",
    "seeds = [\"11\", \"42\", \"1993\", \"2023\", \"12321\"]\n",
    "augs = [\"0\", \"1\"]\n",
    "\n",
    "main_path = \"~/checkpoint\"\n",
    "\n",
    "original_result_arr: Dict[str, List] = {}\n",
    "all_result_arr: Dict[str, List] = {}\n",
    "for idx, tech in enumerate(techniques):\n",
    "    for aug in augs:\n",
    "        original_result_arr[f\"{tech}_{aug}\"] = []\n",
    "        all_result_arr[f\"{tech}_{aug}\"] = []\n",
    "\n",
    "for idx, tech in enumerate(techniques):\n",
    "    for aug in augs:\n",
    "        for seed in seeds:\n",
    "            file_name = f\"{main_path}/sst2_2_32_{tech}_{seed}\"\n",
    "            if aug == \"1\":\n",
    "                file_name = f\"{file_name}_{learning_rates[idx]}_{aug}_0_0_dummy_dummy_dummy_original_accuracy_0.0\"\n",
    "                file_name = f\"{file_name}/sst2.validation.with_instruction.{tech}.all_predictions.csv\"\n",
    "            elif aug == \"0\":\n",
    "                file_name = f\"{file_name}_{learning_rates[idx]}_25_{aug}_0_0_original_accuracy\"\n",
    "                file_name = f\"{file_name}/sst2.validation.with_instruction.{tech}.all_predictions.csv\"\n",
    "            scores = sentiment_metric(file_name)\n",
    "            original_result_arr[f\"{tech}_{aug}\"].append(scores[\"original_accuracy\"])\n",
    "            if aug == \"1\":\n",
    "                all_result_arr[f\"{tech}_{aug}\"].append(scores[\"all_accuracy\"])\n",
    "\n",
    "for idx, tech in enumerate(techniques):\n",
    "    for aug in augs:\n",
    "        if aug == \"1\":\n",
    "            print(\n",
    "                f\"{tech}_{aug}\",\n",
    "                sum(original_result_arr[f\"{tech}_{aug}\"]) / len(seeds),\n",
    "                sum(all_result_arr[f\"{tech}_{aug}\"]) / len(seeds),\n",
    "            )\n",
    "        else:\n",
    "            print(f\"{tech}_{aug}\", sum(original_result_arr[f\"{tech}_{aug}\"]) / len(seeds))"
   ]
  },
  {
   "cell_type": "code",
   "execution_count": null,
   "id": "c7bea1e6-fe1f-4afe-afc4-30a5be54855a",
   "metadata": {},
   "outputs": [],
   "source": []
  }
 ],
 "metadata": {
  "kernelspec": {
   "display_name": "Python 3",
   "language": "python",
   "name": "python3"
  },
  "language_info": {
   "codemirror_mode": {
    "name": "ipython",
    "version": 3
   },
   "file_extension": ".py",
   "mimetype": "text/x-python",
   "name": "python",
   "nbconvert_exporter": "python",
   "pygments_lexer": "ipython3",
   "version": "3.8.10"
  }
 },
 "nbformat": 4,
 "nbformat_minor": 5
}
